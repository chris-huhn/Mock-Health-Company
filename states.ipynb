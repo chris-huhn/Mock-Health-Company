{
 "cells": [
  {
   "cell_type": "code",
   "execution_count": 1,
   "metadata": {},
   "outputs": [],
   "source": [
    "import datetime as dt\n",
    "import numpy as np\n",
    "import pandas as pd\n",
    "import random "
   ]
  },
  {
   "cell_type": "code",
   "execution_count": 2,
   "metadata": {},
   "outputs": [],
   "source": [
    "# columns\n",
    "\n",
    "# state\n",
    "# medical_cost_share\n",
    "# rx_cost_share"
   ]
  },
  {
   "cell_type": "code",
   "execution_count": 3,
   "metadata": {},
   "outputs": [],
   "source": [
    "df_states = pd.DataFrame()"
   ]
  },
  {
   "cell_type": "code",
   "execution_count": 4,
   "metadata": {},
   "outputs": [],
   "source": [
    "# 1. state colmns (company operates in the entire US, but primarily in the NE)\n",
    "states_list = [\"Alabama\",\"Alaska\",\"Arizona\",\"Arkansas\",\"California\",\"Colorado\",\n",
    "  \"Connecticut\",\"Delaware\",\"Florida\",\"Georgia\",\"Hawaii\",\"Idaho\",\"Illinois\",\n",
    "  \"Indiana\",\"Iowa\",\"Kansas\",\"Kentucky\",\"Louisiana\",\"Maine\",\"Maryland\",\n",
    "  \"Massachusetts\",\"Michigan\",\"Minnesota\",\"Mississippi\",\"Missouri\",\"Montana\",\n",
    "  \"Nebraska\",\"Nevada\",\"New Hampshire\",\"New Jersey\",\"New Mexico\",\"New York\",\n",
    "  \"North Carolina\",\"North Dakota\",\"Ohio\",\"Oklahoma\",\"Oregon\",\"Pennsylvania\",\n",
    "  \"Rhode Island\",\"South Carolina\",\"South Dakota\",\"Tennessee\",\"Texas\",\"Utah\",\n",
    "  \"Vermont\",\"Virginia\",\"Washington\",\"West Virginia\",\"Wisconsin\",\"Wyoming\"]"
   ]
  },
  {
   "cell_type": "code",
   "execution_count": 5,
   "metadata": {},
   "outputs": [],
   "source": [
    "# 2. medical_cost_share\n",
    "medical_cost_share = [random.randint(80,90)/100 for i in states_list]"
   ]
  },
  {
   "cell_type": "code",
   "execution_count": 6,
   "metadata": {},
   "outputs": [],
   "source": [
    "# 3. rx_cost_share (will not be lower than medical)\n",
    "def rx_value(num_list):\n",
    "    \"\"\"num_list is a list of numerical values\"\"\"\n",
    "    result = [random.randint(80,95)/100 for i in num_list]\n",
    "    for i in range(len(result)):\n",
    "        while result[i] < num_list[i]:\n",
    "            result[i] += 0.01\n",
    "    result = [round(i,2) for i in result]\n",
    "    return result\n",
    "rx_cost_share = rx_value(medical_cost_share)"
   ]
  },
  {
   "cell_type": "code",
   "execution_count": 7,
   "metadata": {},
   "outputs": [],
   "source": [
    "# insert into dataframe\n",
    "df_states[\"State\"] = states_list\n",
    "df_states[\"Medical_Cost_Share\"] = medical_cost_share\n",
    "df_states[\"Rx_Cost_Share\"] = rx_cost_share"
   ]
  },
  {
   "cell_type": "code",
   "execution_count": 8,
   "metadata": {},
   "outputs": [],
   "source": [
    "# import member_ID column from members table from MySQL to get list of IDs\n",
    "# SQL connection\n",
    "from sqlalchemy import create_engine\n",
    "import pymysql\n",
    "\n",
    "# estabish connection\n",
    "engine = create_engine('mysql+pymysql://root:funny20!@#@localhost')"
   ]
  },
  {
   "cell_type": "code",
   "execution_count": 9,
   "metadata": {},
   "outputs": [
    {
     "data": {
      "text/plain": [
       "<sqlalchemy.engine.result.ResultProxy at 0x11abdd080>"
      ]
     },
     "execution_count": 9,
     "metadata": {},
     "output_type": "execute_result"
    }
   ],
   "source": [
    "engine.execute('USE health_company;')"
   ]
  },
  {
   "cell_type": "code",
   "execution_count": 10,
   "metadata": {},
   "outputs": [
    {
     "data": {
      "text/plain": [
       "<sqlalchemy.engine.result.ResultProxy at 0x11abb0668>"
      ]
     },
     "execution_count": 10,
     "metadata": {},
     "output_type": "execute_result"
    }
   ],
   "source": [
    "engine.execute('CREATE TABLE states (\\\n",
    "    State VARCHAR(20),\\\n",
    "    Medical_Cost_Share DECIMAL(3,2),\\\n",
    "    Rx_Cost_Share DECIMAL(3,2)\\\n",
    "    );')"
   ]
  },
  {
   "cell_type": "code",
   "execution_count": 11,
   "metadata": {},
   "outputs": [],
   "source": [
    "df_states.to_sql('states', con=engine, if_exists='append', index=False)"
   ]
  },
  {
   "cell_type": "code",
   "execution_count": 12,
   "metadata": {},
   "outputs": [
    {
     "data": {
      "text/plain": [
       "[('Alabama', Decimal('0.87'), Decimal('0.90')),\n",
       " ('Alaska', Decimal('0.85'), Decimal('0.93')),\n",
       " ('Arizona', Decimal('0.81'), Decimal('0.90')),\n",
       " ('Arkansas', Decimal('0.84'), Decimal('0.84')),\n",
       " ('California', Decimal('0.81'), Decimal('0.81')),\n",
       " ('Colorado', Decimal('0.80'), Decimal('0.91')),\n",
       " ('Connecticut', Decimal('0.84'), Decimal('0.84')),\n",
       " ('Delaware', Decimal('0.90'), Decimal('0.90')),\n",
       " ('Florida', Decimal('0.85'), Decimal('0.85')),\n",
       " ('Georgia', Decimal('0.80'), Decimal('0.84')),\n",
       " ('Hawaii', Decimal('0.82'), Decimal('0.84')),\n",
       " ('Idaho', Decimal('0.82'), Decimal('0.84')),\n",
       " ('Illinois', Decimal('0.85'), Decimal('0.85')),\n",
       " ('Indiana', Decimal('0.82'), Decimal('0.89')),\n",
       " ('Iowa', Decimal('0.86'), Decimal('0.86')),\n",
       " ('Kansas', Decimal('0.81'), Decimal('0.81')),\n",
       " ('Kentucky', Decimal('0.87'), Decimal('0.91')),\n",
       " ('Louisiana', Decimal('0.82'), Decimal('0.86')),\n",
       " ('Maine', Decimal('0.87'), Decimal('0.92')),\n",
       " ('Maryland', Decimal('0.90'), Decimal('0.92')),\n",
       " ('Massachusetts', Decimal('0.90'), Decimal('0.90')),\n",
       " ('Michigan', Decimal('0.83'), Decimal('0.93')),\n",
       " ('Minnesota', Decimal('0.83'), Decimal('0.92')),\n",
       " ('Mississippi', Decimal('0.83'), Decimal('0.85')),\n",
       " ('Missouri', Decimal('0.89'), Decimal('0.91')),\n",
       " ('Montana', Decimal('0.84'), Decimal('0.86')),\n",
       " ('Nebraska', Decimal('0.85'), Decimal('0.85')),\n",
       " ('Nevada', Decimal('0.80'), Decimal('0.85')),\n",
       " ('New Hampshire', Decimal('0.88'), Decimal('0.92')),\n",
       " ('New Jersey', Decimal('0.89'), Decimal('0.89')),\n",
       " ('New Mexico', Decimal('0.86'), Decimal('0.88')),\n",
       " ('New York', Decimal('0.81'), Decimal('0.95')),\n",
       " ('North Carolina', Decimal('0.82'), Decimal('0.83')),\n",
       " ('North Dakota', Decimal('0.89'), Decimal('0.89')),\n",
       " ('Ohio', Decimal('0.86'), Decimal('0.86')),\n",
       " ('Oklahoma', Decimal('0.82'), Decimal('0.94')),\n",
       " ('Oregon', Decimal('0.85'), Decimal('0.94')),\n",
       " ('Pennsylvania', Decimal('0.81'), Decimal('0.87')),\n",
       " ('Rhode Island', Decimal('0.87'), Decimal('0.87')),\n",
       " ('South Carolina', Decimal('0.82'), Decimal('0.93')),\n",
       " ('South Dakota', Decimal('0.81'), Decimal('0.83')),\n",
       " ('Tennessee', Decimal('0.90'), Decimal('0.90')),\n",
       " ('Texas', Decimal('0.89'), Decimal('0.89')),\n",
       " ('Utah', Decimal('0.87'), Decimal('0.90')),\n",
       " ('Vermont', Decimal('0.82'), Decimal('0.82')),\n",
       " ('Virginia', Decimal('0.90'), Decimal('0.90')),\n",
       " ('Washington', Decimal('0.80'), Decimal('0.81')),\n",
       " ('West Virginia', Decimal('0.85'), Decimal('0.91')),\n",
       " ('Wisconsin', Decimal('0.85'), Decimal('0.95')),\n",
       " ('Wyoming', Decimal('0.90'), Decimal('0.90'))]"
      ]
     },
     "execution_count": 12,
     "metadata": {},
     "output_type": "execute_result"
    }
   ],
   "source": [
    "engine.execute('select * from states;').fetchall()"
   ]
  },
  {
   "cell_type": "code",
   "execution_count": 13,
   "metadata": {},
   "outputs": [],
   "source": [
    "engine.dispose()"
   ]
  },
  {
   "cell_type": "code",
   "execution_count": null,
   "metadata": {},
   "outputs": [],
   "source": []
  }
 ],
 "metadata": {
  "kernelspec": {
   "display_name": "Python 3",
   "language": "python",
   "name": "python3"
  },
  "language_info": {
   "codemirror_mode": {
    "name": "ipython",
    "version": 3
   },
   "file_extension": ".py",
   "mimetype": "text/x-python",
   "name": "python",
   "nbconvert_exporter": "python",
   "pygments_lexer": "ipython3",
   "version": "3.7.3"
  }
 },
 "nbformat": 4,
 "nbformat_minor": 2
}
