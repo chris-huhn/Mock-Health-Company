{
 "cells": [
  {
   "cell_type": "code",
   "execution_count": 1,
   "metadata": {},
   "outputs": [],
   "source": [
    "# columns\n",
    "# ID (to be created in SQL)\n",
    "# member_id\n",
    "# rx_code\n",
    "# pharmacy_id\n",
    "# network_status\n",
    "# cost\n",
    "# payout\n",
    "# date_of_service"
   ]
  },
  {
   "cell_type": "code",
   "execution_count": 2,
   "metadata": {},
   "outputs": [],
   "source": [
    "import datetime as dt\n",
    "import numpy as np\n",
    "import pandas as pd\n",
    "import random "
   ]
  },
  {
   "cell_type": "code",
   "execution_count": 3,
   "metadata": {},
   "outputs": [],
   "source": [
    "# create dataframe\n",
    "rx_claims= pd.DataFrame()"
   ]
  },
  {
   "cell_type": "code",
   "execution_count": 4,
   "metadata": {},
   "outputs": [],
   "source": [
    "# 1. member_id\n",
    "\n",
    "# import member_ID column from members table from MySQL to get list of IDs\n",
    "# SQL connection\n",
    "from sqlalchemy import create_engine\n",
    "import pymysql\n",
    "\n",
    "# estabish connection\n",
    "engine = create_engine('mysql+pymysql://root:funny20!@#@localhost')"
   ]
  },
  {
   "cell_type": "code",
   "execution_count": 5,
   "metadata": {},
   "outputs": [
    {
     "data": {
      "text/plain": [
       "<sqlalchemy.engine.result.ResultProxy at 0x116f4dc18>"
      ]
     },
     "execution_count": 5,
     "metadata": {},
     "output_type": "execute_result"
    }
   ],
   "source": [
    "engine.execute(\"USE health_company;\")"
   ]
  },
  {
   "cell_type": "code",
   "execution_count": 6,
   "metadata": {},
   "outputs": [],
   "source": [
    "# read Member_ID column into a dataframe\n",
    "df_member_id = pd.read_sql_query(\"select Member_ID from members;\", con=engine)"
   ]
  },
  {
   "cell_type": "code",
   "execution_count": 7,
   "metadata": {},
   "outputs": [],
   "source": [
    "member_id = list(df_member_id[\"Member_ID\"])"
   ]
  },
  {
   "cell_type": "code",
   "execution_count": 8,
   "metadata": {},
   "outputs": [],
   "source": [
    "# create list of 20000 randomly selected member ids\n",
    "member_id = [random.choice(member_id) for i in range(20000)]"
   ]
  },
  {
   "cell_type": "code",
   "execution_count": 9,
   "metadata": {},
   "outputs": [
    {
     "data": {
      "text/plain": [
       "20000"
      ]
     },
     "execution_count": 9,
     "metadata": {},
     "output_type": "execute_result"
    }
   ],
   "source": [
    "len(member_id)"
   ]
  },
  {
   "cell_type": "code",
   "execution_count": 10,
   "metadata": {},
   "outputs": [],
   "source": [
    "# add member_ID to dataframe\n",
    "rx_claims[\"Member_ID\"] = member_id"
   ]
  },
  {
   "cell_type": "code",
   "execution_count": 11,
   "metadata": {},
   "outputs": [],
   "source": [
    "# 2. pharmacy_id\n",
    "\n",
    "# import Pharmacy_ID , Network_Status column from 'pharmacies' table in MySQL\n",
    "df_pharm_id = pd.read_sql_query(\"select Pharmacy_ID , Network_Status from pharmacies;\", con=engine)"
   ]
  },
  {
   "cell_type": "code",
   "execution_count": 12,
   "metadata": {},
   "outputs": [],
   "source": [
    "# convert Pharmacy_ID column to list and randomize in 20000 item list\n",
    "pharm_id = list(df_pharm_id['Pharmacy_ID'] )\n",
    "pharm_id = [random.choice(pharm_id) for i in range(20000)]"
   ]
  },
  {
   "cell_type": "code",
   "execution_count": 13,
   "metadata": {},
   "outputs": [],
   "source": [
    "#insert into dataframe\n",
    "rx_claims['Pharmacy_ID'] = pharm_id"
   ]
  },
  {
   "cell_type": "code",
   "execution_count": 14,
   "metadata": {},
   "outputs": [],
   "source": [
    "# 3. Network_Status\n",
    "\n",
    "# merge dataframes to inner join Network_Status to procedure_claims\n",
    "rx_claims = pd.merge(rx_claims, df_pharm_id, on='Pharmacy_ID')"
   ]
  },
  {
   "cell_type": "code",
   "execution_count": 15,
   "metadata": {},
   "outputs": [],
   "source": [
    "# 4. rx_code and 5. cost"
   ]
  },
  {
   "cell_type": "code",
   "execution_count": 17,
   "metadata": {},
   "outputs": [
    {
     "data": {
      "text/plain": [
       "<sqlalchemy.engine.result.ResultProxy at 0x116fa3b70>"
      ]
     },
     "execution_count": 17,
     "metadata": {},
     "output_type": "execute_result"
    }
   ],
   "source": [
    "# Change 'Price' to 'Cost'in drugs table in MySQL\n",
    "engine.execute('ALTER TABLE drugs RENAME COLUMN Price TO Cost;')"
   ]
  },
  {
   "cell_type": "code",
   "execution_count": 18,
   "metadata": {},
   "outputs": [],
   "source": [
    "# import Code, Cost from procedures table in sql \n",
    "df_codes_cost = pd.read_sql_query('select NDC_Code, Cost from drugs;', con=engine)"
   ]
  },
  {
   "cell_type": "code",
   "execution_count": 19,
   "metadata": {},
   "outputs": [],
   "source": [
    "codes = list(df_codes_cost['NDC_Code'])"
   ]
  },
  {
   "cell_type": "code",
   "execution_count": 20,
   "metadata": {},
   "outputs": [],
   "source": [
    "# create list of 20000 randomly selected codes\n",
    "codes = [random.choice(codes) for i in range(20000)]"
   ]
  },
  {
   "cell_type": "code",
   "execution_count": 21,
   "metadata": {},
   "outputs": [],
   "source": [
    "# add codes to dataframe\n",
    "rx_claims[\"NDC_Code\"] = codes"
   ]
  },
  {
   "cell_type": "code",
   "execution_count": 22,
   "metadata": {},
   "outputs": [],
   "source": [
    "# 5. inner join cost column to dataframe with .merge\n",
    "rx_claims = pd.merge(rx_claims, df_codes_cost, on=\"NDC_Code\")"
   ]
  },
  {
   "cell_type": "code",
   "execution_count": 23,
   "metadata": {},
   "outputs": [
    {
     "data": {
      "text/plain": [
       "20997"
      ]
     },
     "execution_count": 23,
     "metadata": {},
     "output_type": "execute_result"
    }
   ],
   "source": [
    "# check length of rx_claims\n",
    "len(rx_claims)"
   ]
  },
  {
   "cell_type": "code",
   "execution_count": 24,
   "metadata": {},
   "outputs": [],
   "source": [
    "# remove rows to get to 20000\n",
    "while len(rx_claims) > 20000:\n",
    "    rx_claims = rx_claims.drop(rx_claims.index[-1])"
   ]
  },
  {
   "cell_type": "code",
   "execution_count": 25,
   "metadata": {},
   "outputs": [
    {
     "data": {
      "text/plain": [
       "20000"
      ]
     },
     "execution_count": 25,
     "metadata": {},
     "output_type": "execute_result"
    }
   ],
   "source": [
    "# check length of rx_claims\n",
    "len(rx_claims)"
   ]
  },
  {
   "cell_type": "code",
   "execution_count": 26,
   "metadata": {},
   "outputs": [],
   "source": [
    "# 6. payout\n",
    "\n",
    "# these will be weighted random fractions of the cost columns. We will assume 80/20 cost sharing, meaning .8 will\n",
    "# have the highest weight among the fractions. \n",
    "def weighted_choice(objects, weights):\n",
    "    \"\"\" returns a random element from the sequence of 'objects', \n",
    "        the likelihood of the objects is weighted according \n",
    "        to the sequence of 'weights', i.e. percentages.\"\"\"\n",
    "\n",
    "    weights = np.array(weights, dtype=np.float64)\n",
    "    sum_of_weights = weights.sum()\n",
    "    # standardization:\n",
    "    np.multiply(weights, 1 / sum_of_weights, weights)\n",
    "    weights = weights.cumsum()\n",
    "    x = random.random()\n",
    "    for i in range(len(weights)):\n",
    "        if x < weights[i]:\n",
    "            return objects[i]\n",
    "\n",
    "# call weighted_choice function, where both 0.8 and a random number between 0,1 are equally likey to be chosen\n",
    "rates = [weighted_choice([0.8, round(random.uniform(0,1),2)], [0.5, 0.5]) for i in range(20000)]"
   ]
  },
  {
   "cell_type": "code",
   "execution_count": 27,
   "metadata": {},
   "outputs": [],
   "source": [
    "# initialize empty list payout and iterate through dataframe\n",
    "payout = []\n",
    "for i,j in rx_claims.iterrows():\n",
    "    # if in-network, multiply Cost and rates to get payout\n",
    "    if j[2] == \"In-network\":\n",
    "        payout += [rx_claims['Cost'][i]*rates[i]]\n",
    "    # otherwise, enter 0\n",
    "    else:\n",
    "        payout +=[0]"
   ]
  },
  {
   "cell_type": "code",
   "execution_count": 28,
   "metadata": {},
   "outputs": [],
   "source": [
    "# insert into dataframe\n",
    "rx_claims['Payout'] = payout"
   ]
  },
  {
   "cell_type": "code",
   "execution_count": 29,
   "metadata": {},
   "outputs": [],
   "source": [
    "# 7. date of service"
   ]
  },
  {
   "cell_type": "code",
   "execution_count": 30,
   "metadata": {},
   "outputs": [],
   "source": [
    "# import enrollment date from MySQL to ensure that DOS comes after enrollment date\n",
    "enr_list = list(pd.read_sql_query('select Enrollment_Date from members;', con=engine)['Enrollment_Date'])"
   ]
  },
  {
   "cell_type": "code",
   "execution_count": 31,
   "metadata": {},
   "outputs": [],
   "source": [
    "# define function to ensure March 20 2020 is not exceeded\n",
    "def march_20(a):\n",
    "    a += dt.timedelta(days=random.randint(1,100))\n",
    "    while a > dt.date(2020, 3, 20):\n",
    "        a -= dt.timedelta(days=1)\n",
    "    return a\n",
    "\n",
    "\n",
    "dos = [march_20(i) for i in enr_list*2]"
   ]
  },
  {
   "cell_type": "code",
   "execution_count": 32,
   "metadata": {},
   "outputs": [],
   "source": [
    "# insert into dataframe\n",
    "rx_claims[\"Date_Of_Service\"] = dos"
   ]
  },
  {
   "cell_type": "code",
   "execution_count": 33,
   "metadata": {},
   "outputs": [
    {
     "data": {
      "text/html": [
       "<div>\n",
       "<style scoped>\n",
       "    .dataframe tbody tr th:only-of-type {\n",
       "        vertical-align: middle;\n",
       "    }\n",
       "\n",
       "    .dataframe tbody tr th {\n",
       "        vertical-align: top;\n",
       "    }\n",
       "\n",
       "    .dataframe thead th {\n",
       "        text-align: right;\n",
       "    }\n",
       "</style>\n",
       "<table border=\"1\" class=\"dataframe\">\n",
       "  <thead>\n",
       "    <tr style=\"text-align: right;\">\n",
       "      <th></th>\n",
       "      <th>Member_ID</th>\n",
       "      <th>Pharmacy_ID</th>\n",
       "      <th>Network_Status</th>\n",
       "      <th>NDC_Code</th>\n",
       "      <th>Cost</th>\n",
       "      <th>Payout</th>\n",
       "      <th>Date_Of_Service</th>\n",
       "    </tr>\n",
       "  </thead>\n",
       "  <tbody>\n",
       "    <tr>\n",
       "      <th>0</th>\n",
       "      <td>104005</td>\n",
       "      <td>300544</td>\n",
       "      <td>In-network</td>\n",
       "      <td>0268-6196</td>\n",
       "      <td>34</td>\n",
       "      <td>26.18</td>\n",
       "      <td>2017-12-11</td>\n",
       "    </tr>\n",
       "    <tr>\n",
       "      <th>1</th>\n",
       "      <td>104005</td>\n",
       "      <td>300544</td>\n",
       "      <td>In-network</td>\n",
       "      <td>0268-6196</td>\n",
       "      <td>50</td>\n",
       "      <td>40.00</td>\n",
       "      <td>2014-10-09</td>\n",
       "    </tr>\n",
       "    <tr>\n",
       "      <th>2</th>\n",
       "      <td>100137</td>\n",
       "      <td>300119</td>\n",
       "      <td>In-network</td>\n",
       "      <td>0268-6196</td>\n",
       "      <td>34</td>\n",
       "      <td>27.20</td>\n",
       "      <td>2013-09-08</td>\n",
       "    </tr>\n",
       "    <tr>\n",
       "      <th>3</th>\n",
       "      <td>100137</td>\n",
       "      <td>300119</td>\n",
       "      <td>In-network</td>\n",
       "      <td>0268-6196</td>\n",
       "      <td>50</td>\n",
       "      <td>40.00</td>\n",
       "      <td>2017-05-19</td>\n",
       "    </tr>\n",
       "    <tr>\n",
       "      <th>4</th>\n",
       "      <td>107643</td>\n",
       "      <td>300544</td>\n",
       "      <td>In-network</td>\n",
       "      <td>24338-120</td>\n",
       "      <td>9</td>\n",
       "      <td>7.20</td>\n",
       "      <td>2015-03-21</td>\n",
       "    </tr>\n",
       "  </tbody>\n",
       "</table>\n",
       "</div>"
      ],
      "text/plain": [
       "   Member_ID  Pharmacy_ID Network_Status   NDC_Code  Cost  Payout  \\\n",
       "0     104005       300544     In-network  0268-6196    34   26.18   \n",
       "1     104005       300544     In-network  0268-6196    50   40.00   \n",
       "2     100137       300119     In-network  0268-6196    34   27.20   \n",
       "3     100137       300119     In-network  0268-6196    50   40.00   \n",
       "4     107643       300544     In-network  24338-120     9    7.20   \n",
       "\n",
       "  Date_Of_Service  \n",
       "0      2017-12-11  \n",
       "1      2014-10-09  \n",
       "2      2013-09-08  \n",
       "3      2017-05-19  \n",
       "4      2015-03-21  "
      ]
     },
     "execution_count": 33,
     "metadata": {},
     "output_type": "execute_result"
    }
   ],
   "source": [
    "rx_claims.head()"
   ]
  },
  {
   "cell_type": "code",
   "execution_count": 34,
   "metadata": {},
   "outputs": [
    {
     "data": {
      "text/plain": [
       "<sqlalchemy.engine.result.ResultProxy at 0x117184860>"
      ]
     },
     "execution_count": 34,
     "metadata": {},
     "output_type": "execute_result"
    }
   ],
   "source": [
    "# create table in MySQL\n",
    "engine.execute('CREATE TABLE rx_claims (\\\n",
    "                  Rx_Claim_ID INT NOT NULL AUTO_INCREMENT,\\\n",
    "                  Member_ID INT,\\\n",
    "                  Pharmacy_ID INT,\\\n",
    "                  Network_Status VARCHAR(50),\\\n",
    "                  NDC_Code VARCHAR(12),\\\n",
    "                  Cost INT,\\\n",
    "                  Payout DECIMAL(6,2),\\\n",
    "                  Date_Of_Service DATE,\\\n",
    "                  PRIMARY KEY(Rx_Claim_ID)\\\n",
    "              ) AUTO_INCREMENT = 500000;')"
   ]
  },
  {
   "cell_type": "code",
   "execution_count": 35,
   "metadata": {},
   "outputs": [],
   "source": [
    "rx_claims.to_sql('rx_claims', con=engine, if_exists='append', index=False)"
   ]
  },
  {
   "cell_type": "code",
   "execution_count": 36,
   "metadata": {},
   "outputs": [
    {
     "data": {
      "text/plain": [
       "[(500000, 104005, 300544, 'In-network', '0268-6196', 34, Decimal('26.18'), datetime.date(2017, 12, 11)),\n",
       " (500001, 104005, 300544, 'In-network', '0268-6196', 50, Decimal('40.00'), datetime.date(2014, 10, 9)),\n",
       " (500002, 100137, 300119, 'In-network', '0268-6196', 34, Decimal('27.20'), datetime.date(2013, 9, 8)),\n",
       " (500003, 100137, 300119, 'In-network', '0268-6196', 50, Decimal('40.00'), datetime.date(2017, 5, 19)),\n",
       " (500004, 107643, 300544, 'In-network', '24338-120', 9, Decimal('7.20'), datetime.date(2015, 3, 21)),\n",
       " (500005, 104792, 300864, 'In-network', '24338-120', 9, Decimal('7.20'), datetime.date(2020, 3, 20)),\n",
       " (500006, 107044, 300544, 'In-network', '65044-1006', 14, Decimal('11.20'), datetime.date(2011, 6, 17)),\n",
       " (500007, 101448, 300544, 'In-network', '0268-1505', 53, Decimal('22.79'), datetime.date(2016, 3, 31)),\n",
       " (500008, 104771, 300622, 'In-network', '0268-1505', 53, Decimal('43.46'), datetime.date(2014, 5, 19)),\n",
       " (500009, 103858, 300544, 'In-network', '63323-262', 650, Decimal('520.00'), datetime.date(2016, 4, 27))]"
      ]
     },
     "execution_count": 36,
     "metadata": {},
     "output_type": "execute_result"
    }
   ],
   "source": [
    "engine.execute('select * from rx_claims limit 10;').fetchall()"
   ]
  },
  {
   "cell_type": "code",
   "execution_count": 37,
   "metadata": {},
   "outputs": [],
   "source": [
    "engine.dispose()"
   ]
  },
  {
   "cell_type": "code",
   "execution_count": null,
   "metadata": {},
   "outputs": [],
   "source": []
  }
 ],
 "metadata": {
  "kernelspec": {
   "display_name": "Python 3",
   "language": "python",
   "name": "python3"
  },
  "language_info": {
   "codemirror_mode": {
    "name": "ipython",
    "version": 3
   },
   "file_extension": ".py",
   "mimetype": "text/x-python",
   "name": "python",
   "nbconvert_exporter": "python",
   "pygments_lexer": "ipython3",
   "version": "3.7.3"
  }
 },
 "nbformat": 4,
 "nbformat_minor": 2
}
