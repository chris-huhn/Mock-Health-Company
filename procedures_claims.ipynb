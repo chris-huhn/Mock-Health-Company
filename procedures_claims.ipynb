{
 "cells": [
  {
   "cell_type": "code",
   "execution_count": 2,
   "metadata": {},
   "outputs": [],
   "source": [
    "# columns\n",
    "# ID (to be created in SQL)\n",
    "# member_id\n",
    "# provider_id\n",
    "# Code\n",
    "# Type\n",
    "# State\n",
    "# network_status\n",
    "# cost\n",
    "# payout\n",
    "# date_of_service"
   ]
  },
  {
   "cell_type": "code",
   "execution_count": 128,
   "metadata": {},
   "outputs": [
    {
     "data": {
      "text/html": [
       "<div>\n",
       "<style scoped>\n",
       "    .dataframe tbody tr th:only-of-type {\n",
       "        vertical-align: middle;\n",
       "    }\n",
       "\n",
       "    .dataframe tbody tr th {\n",
       "        vertical-align: top;\n",
       "    }\n",
       "\n",
       "    .dataframe thead th {\n",
       "        text-align: right;\n",
       "    }\n",
       "</style>\n",
       "<table border=\"1\" class=\"dataframe\">\n",
       "  <thead>\n",
       "    <tr style=\"text-align: right;\">\n",
       "      <th></th>\n",
       "      <th>Member_ID</th>\n",
       "      <th>Provider_ID</th>\n",
       "      <th>Code</th>\n",
       "      <th>Type</th>\n",
       "      <th>State</th>\n",
       "      <th>Network_Status</th>\n",
       "      <th>Cost</th>\n",
       "      <th>Payout</th>\n",
       "      <th>Date_Of_Service</th>\n",
       "    </tr>\n",
       "  </thead>\n",
       "  <tbody>\n",
       "    <tr>\n",
       "      <th>0</th>\n",
       "      <td>107915</td>\n",
       "      <td>201006</td>\n",
       "      <td>DT0028</td>\n",
       "      <td>Dental</td>\n",
       "      <td>Massachusetts</td>\n",
       "      <td>In-network</td>\n",
       "      <td>56</td>\n",
       "      <td>44.80</td>\n",
       "      <td>2017-11-17</td>\n",
       "    </tr>\n",
       "    <tr>\n",
       "      <th>1</th>\n",
       "      <td>109770</td>\n",
       "      <td>200875</td>\n",
       "      <td>PC0471</td>\n",
       "      <td>Primary Care</td>\n",
       "      <td>Maine</td>\n",
       "      <td>In-network</td>\n",
       "      <td>11</td>\n",
       "      <td>10.12</td>\n",
       "      <td>2014-10-10</td>\n",
       "    </tr>\n",
       "    <tr>\n",
       "      <th>2</th>\n",
       "      <td>103881</td>\n",
       "      <td>200285</td>\n",
       "      <td>IM0316</td>\n",
       "      <td>Internal Medicine</td>\n",
       "      <td>Colorado</td>\n",
       "      <td>In-network</td>\n",
       "      <td>40</td>\n",
       "      <td>32.00</td>\n",
       "      <td>2013-10-02</td>\n",
       "    </tr>\n",
       "    <tr>\n",
       "      <th>3</th>\n",
       "      <td>105238</td>\n",
       "      <td>201814</td>\n",
       "      <td>OB0225</td>\n",
       "      <td>OBGYN</td>\n",
       "      <td>New York</td>\n",
       "      <td>In-network</td>\n",
       "      <td>625</td>\n",
       "      <td>243.75</td>\n",
       "      <td>2017-05-24</td>\n",
       "    </tr>\n",
       "    <tr>\n",
       "      <th>4</th>\n",
       "      <td>104786</td>\n",
       "      <td>201853</td>\n",
       "      <td>PE0209</td>\n",
       "      <td>Pediatrics</td>\n",
       "      <td>New York</td>\n",
       "      <td>In-network</td>\n",
       "      <td>800</td>\n",
       "      <td>640.00</td>\n",
       "      <td>2015-03-18</td>\n",
       "    </tr>\n",
       "  </tbody>\n",
       "</table>\n",
       "</div>"
      ],
      "text/plain": [
       "   Member_ID  Provider_ID    Code               Type          State  \\\n",
       "0     107915       201006  DT0028             Dental  Massachusetts   \n",
       "1     109770       200875  PC0471       Primary Care          Maine   \n",
       "2     103881       200285  IM0316  Internal Medicine       Colorado   \n",
       "3     105238       201814  OB0225              OBGYN       New York   \n",
       "4     104786       201853  PE0209         Pediatrics       New York   \n",
       "\n",
       "  Network_Status  Cost  Payout Date_Of_Service  \n",
       "0     In-network    56   44.80      2017-11-17  \n",
       "1     In-network    11   10.12      2014-10-10  \n",
       "2     In-network    40   32.00      2013-10-02  \n",
       "3     In-network   625  243.75      2017-05-24  \n",
       "4     In-network   800  640.00      2015-03-18  "
      ]
     },
     "execution_count": 128,
     "metadata": {},
     "output_type": "execute_result"
    }
   ],
   "source": [
    "procedure_claims.head()"
   ]
  },
  {
   "cell_type": "code",
   "execution_count": 4,
   "metadata": {},
   "outputs": [],
   "source": [
    "import datetime as dt\n",
    "import numpy as np\n",
    "import pandas as pd\n",
    "import random "
   ]
  },
  {
   "cell_type": "code",
   "execution_count": 5,
   "metadata": {},
   "outputs": [],
   "source": [
    "# create dataframe\n",
    "procedure_claims= pd.DataFrame()"
   ]
  },
  {
   "cell_type": "code",
   "execution_count": 6,
   "metadata": {},
   "outputs": [],
   "source": [
    "# 1. member_id and state\n",
    "\n",
    "# import member_ID column from members table from MySQL to get list of IDs\n",
    "# SQL connection\n",
    "from sqlalchemy import create_engine\n",
    "import pymysql\n",
    "\n",
    "# estabish connection\n",
    "engine = create_engine('mysql+pymysql://root:funny20!@#@localhost')"
   ]
  },
  {
   "cell_type": "code",
   "execution_count": 7,
   "metadata": {},
   "outputs": [
    {
     "data": {
      "text/plain": [
       "<sqlalchemy.engine.result.ResultProxy at 0x11e8560f0>"
      ]
     },
     "execution_count": 7,
     "metadata": {},
     "output_type": "execute_result"
    }
   ],
   "source": [
    "engine.execute(\"USE health_company;\")"
   ]
  },
  {
   "cell_type": "code",
   "execution_count": 41,
   "metadata": {},
   "outputs": [],
   "source": [
    "# read Member_ID column into a dataframe\n",
    "df_member_id = pd.read_sql_query(\"select Member_ID, State from members;\", con=engine)"
   ]
  },
  {
   "cell_type": "code",
   "execution_count": 57,
   "metadata": {},
   "outputs": [],
   "source": [
    "# 2. provider_id, Network_Status, Type\n",
    "\n",
    "# import Provider_ID , Network_Status column from 'providers' table in MySQL\n",
    "df_prov_id = pd.read_sql_query(\"select Provider_ID , State, Network_Status, Type from providers;\", con=engine)"
   ]
  },
  {
   "cell_type": "code",
   "execution_count": 58,
   "metadata": {},
   "outputs": [],
   "source": [
    "# merge df_member_id and df_prov_id on State and take a random n=20000 sample\n",
    "procedure_claims = pd.merge(df_member_id, df_prov_id, on=\"State\", how='inner').sample(n=20000)"
   ]
  },
  {
   "cell_type": "code",
   "execution_count": 18,
   "metadata": {},
   "outputs": [],
   "source": [
    "# 3. code cost"
   ]
  },
  {
   "cell_type": "code",
   "execution_count": 60,
   "metadata": {},
   "outputs": [],
   "source": [
    "# import Code, Cost from procedures table in sql \n",
    "df_codes_cost = pd.read_sql_query('select Type, Code, Cost from procedures;', con=engine)"
   ]
  },
  {
   "cell_type": "code",
   "execution_count": 64,
   "metadata": {},
   "outputs": [],
   "source": [
    "# merge procedure_claims with df_codes_cost and take a n=20000 random sample\n",
    "procedure_claims = pd.merge(procedure_claims, df_codes_cost, on=\"Type\").sample(n=20000)"
   ]
  },
  {
   "cell_type": "code",
   "execution_count": 21,
   "metadata": {},
   "outputs": [],
   "source": [
    "# create list of 20000 randomly selected codes\n",
    "codes = [random.choice(codes) for i in range(20000)]"
   ]
  },
  {
   "cell_type": "code",
   "execution_count": 23,
   "metadata": {},
   "outputs": [],
   "source": [
    "# 4. inner join cost column to dataframe with .merge, reset the index, delete the old index column\n",
    "procedure_claims = pd.merge(procedure_claims, df_codes_cost, on=\"Code\")"
   ]
  },
  {
   "cell_type": "code",
   "execution_count": 104,
   "metadata": {},
   "outputs": [],
   "source": [
    "procedure_claims = procedure_claims.reset_index()"
   ]
  },
  {
   "cell_type": "code",
   "execution_count": 107,
   "metadata": {},
   "outputs": [],
   "source": [
    "del[procedure_claims['index']]"
   ]
  },
  {
   "cell_type": "code",
   "execution_count": 112,
   "metadata": {},
   "outputs": [],
   "source": [
    "# 5. payout\n",
    "\n",
    "# these will be weighted random fractions of the cost columns. We will assume 80/20 cost sharing, meaning .8 will\n",
    "# have the highest weight among the fractions. \n",
    "def weighted_choice(objects, weights):\n",
    "    \"\"\" returns a random element from the sequence of 'objects', \n",
    "        the likelihood of the objects is weighted according \n",
    "        to the sequence of 'weights', i.e. percentages.\"\"\"\n",
    "\n",
    "    weights = np.array(weights, dtype=np.float64)\n",
    "    sum_of_weights = weights.sum()\n",
    "    # standardization:\n",
    "    np.multiply(weights, 1 / sum_of_weights, weights)\n",
    "    weights = weights.cumsum()\n",
    "    x = random.random()\n",
    "    for i in range(len(weights)):\n",
    "        if x < weights[i]:\n",
    "            return objects[i]\n",
    "\n",
    "# call weighted_choice function, where both 0.8 and a random number between 0,1 are equally likey to be chosen\n",
    "rates = [weighted_choice([0.8, round(random.uniform(0,1),2)], [0.5, 0.5]) for i in range(20000)]"
   ]
  },
  {
   "cell_type": "code",
   "execution_count": 113,
   "metadata": {},
   "outputs": [],
   "source": [
    "# initialize empty list payout and iterate through dataframe\n",
    "payout = []\n",
    "for i,j in procedure_claims.iterrows():\n",
    "    # if in-network, multiply Cost and rates to get payout\n",
    "    if j[3] == \"In-network\":\n",
    "        payout += [procedure_claims['Cost'][i]*rates[i]]\n",
    "    # otherwise, enter 0\n",
    "    else:\n",
    "        payout +=[0]"
   ]
  },
  {
   "cell_type": "code",
   "execution_count": 114,
   "metadata": {},
   "outputs": [],
   "source": [
    "# insert into dataframe\n",
    "procedure_claims['Payout'] = payout"
   ]
  },
  {
   "cell_type": "code",
   "execution_count": 70,
   "metadata": {},
   "outputs": [],
   "source": [
    "# 6. date of service"
   ]
  },
  {
   "cell_type": "code",
   "execution_count": 115,
   "metadata": {},
   "outputs": [],
   "source": [
    "# import enrollment date from MySQL to ensure that DOS comes after enrollment date\n",
    "enr_list = list(pd.read_sql_query('select Enrollment_Date from members;', con=engine)['Enrollment_Date'])"
   ]
  },
  {
   "cell_type": "code",
   "execution_count": 116,
   "metadata": {},
   "outputs": [],
   "source": [
    "# define function to ensure March 20 2020 is not exceeded\n",
    "def march_20(a):\n",
    "    a += dt.timedelta(days=random.randint(1,100))\n",
    "    while a > dt.date(2020, 3, 20):\n",
    "        a -= dt.timedelta(days=1)\n",
    "    return a\n",
    "\n",
    "\n",
    "dos = [march_20(i) for i in enr_list*2]"
   ]
  },
  {
   "cell_type": "code",
   "execution_count": 117,
   "metadata": {},
   "outputs": [],
   "source": [
    "# insert into dataframe\n",
    "procedure_claims[\"Date_Of_Service\"] = dos"
   ]
  },
  {
   "cell_type": "code",
   "execution_count": 122,
   "metadata": {},
   "outputs": [],
   "source": [
    "# set the column order\n",
    "procedure_claims = procedure_claims[['Member_ID', 'Provider_ID','Code', 'Type', 'State', 'Network_Status', 'Cost', 'Payout', 'Date_Of_Service']]"
   ]
  },
  {
   "cell_type": "code",
   "execution_count": 124,
   "metadata": {},
   "outputs": [
    {
     "data": {
      "text/plain": [
       "<sqlalchemy.engine.result.ResultProxy at 0x129bf9978>"
      ]
     },
     "execution_count": 124,
     "metadata": {},
     "output_type": "execute_result"
    }
   ],
   "source": [
    "# create table in MySQL\n",
    "engine.execute('CREATE TABLE procedure_claims (\\\n",
    "                  Claim_ID INT NOT NULL AUTO_INCREMENT,\\\n",
    "                  Member_ID INT,\\\n",
    "                  Provider_ID INT,\\\n",
    "                  Code VARCHAR(6),\\\n",
    "                  Type VARCHAR(50),\\\n",
    "                  State VARCHAR(20),\\\n",
    "                  Network_Status VARCHAR(50),\\\n",
    "                  Cost INT,\\\n",
    "                  Payout DECIMAL(6,2),\\\n",
    "                  Date_Of_Service DATE,\\\n",
    "                  PRIMARY KEY(Claim_ID)\\\n",
    "              ) AUTO_INCREMENT = 400000;')"
   ]
  },
  {
   "cell_type": "code",
   "execution_count": 125,
   "metadata": {},
   "outputs": [],
   "source": [
    "# insert data into table\n",
    "procedure_claims.to_sql('procedure_claims', con=engine, if_exists='append', index=False)"
   ]
  },
  {
   "cell_type": "code",
   "execution_count": 126,
   "metadata": {},
   "outputs": [
    {
     "data": {
      "text/plain": [
       "[(400000, 107915, 201006, 'DT0028', 'Dental', 'Massachusetts', 'In-network', 56, Decimal('44.80'), datetime.date(2017, 11, 17)),\n",
       " (400001, 109770, 200875, 'PC0471', 'Primary Care', 'Maine', 'In-network', 11, Decimal('10.12'), datetime.date(2014, 10, 10)),\n",
       " (400002, 103881, 200285, 'IM0316', 'Internal Medicine', 'Colorado', 'In-network', 40, Decimal('32.00'), datetime.date(2013, 10, 2)),\n",
       " (400003, 105238, 201814, 'OB0225', 'OBGYN', 'New York', 'In-network', 625, Decimal('243.75'), datetime.date(2017, 5, 24)),\n",
       " (400004, 104786, 201853, 'PE0209', 'Pediatrics', 'New York', 'In-network', 800, Decimal('640.00'), datetime.date(2015, 3, 18)),\n",
       " (400005, 109103, 201802, 'NE0573', 'Neurology', 'New York', 'In-network', 20, Decimal('12.00'), datetime.date(2020, 3, 20)),\n",
       " (400006, 102261, 202027, 'PE0237', 'Pediatrics', 'North Carolina', 'In-network', 44, Decimal('35.20'), datetime.date(2011, 9, 19)),\n",
       " (400007, 107767, 202297, 'DE0526', 'Dermatology', 'Pennsylvania', 'Out-of-network', 39, Decimal('0.00'), datetime.date(2016, 3, 7)),\n",
       " (400008, 108531, 201666, 'BH0180', 'Behavioral Health', 'New York', 'In-network', 76, Decimal('68.40'), datetime.date(2014, 4, 25)),\n",
       " (400009, 106289, 201436, 'OD0540', 'Orthodontics', 'New Hampshire', 'In-network', 48, Decimal('38.40'), datetime.date(2016, 4, 25)),\n",
       " (400010, 106183, 201575, 'PE0338', 'Pediatrics', 'New Jersey', 'In-network', 25, Decimal('20.00'), datetime.date(2015, 10, 9)),\n",
       " (400011, 103654, 202267, 'CA0540', 'Cardiology', 'Pennsylvania', 'In-network', 875, Decimal('700.00'), datetime.date(2015, 8, 31)),\n",
       " (400012, 106033, 200864, 'OD0465', 'Orthodontics', 'Maine', 'In-network', 800, Decimal('640.00'), datetime.date(2018, 9, 25)),\n",
       " (400013, 104763, 202398, 'PT0156', 'Physical Therapy', 'Pennsylvania', 'In-network', 54, Decimal('52.38'), datetime.date(2019, 1, 10)),\n",
       " (400014, 104742, 201526, 'IM0493', 'Internal Medicine', 'New Jersey', 'In-network', 825, Decimal('660.00'), datetime.date(2017, 7, 17)),\n",
       " (400015, 108605, 202425, 'UC0404', 'Urgent Care', 'Pennsylvania', 'Out-of-network', 5, Decimal('0.00'), datetime.date(2017, 4, 29)),\n",
       " (400016, 103867, 202316, 'DM0344', 'Durable Medical Equipment', 'Pennsylvania', 'In-network', 16, Decimal('8.48'), datetime.date(2018, 11, 5)),\n",
       " (400017, 101262, 201294, 'HO0422', 'Hospital', 'Missouri', 'In-network', 97, Decimal('77.60'), datetime.date(2014, 7, 4)),\n",
       " (400018, 104320, 200780, 'VI0027', 'Vision', 'Kentucky', 'In-network', 98, Decimal('85.26'), datetime.date(2010, 11, 25)),\n",
       " (400019, 106686, 201571, 'OD0026', 'Orthodontics', 'New Jersey', 'In-network', 58, Decimal('46.40'), datetime.date(2019, 6, 20)),\n",
       " (400020, 105137, 201725, 'DE0321', 'Dermatology', 'New York', 'In-network', 77, Decimal('61.60'), datetime.date(2019, 4, 23)),\n",
       " (400021, 104543, 201587, 'PT0623', 'Physical Therapy', 'New Jersey', 'In-network', 15, Decimal('13.35'), datetime.date(2013, 4, 14)),\n",
       " (400022, 106090, 202825, 'OD0210', 'Orthodontics', 'Virginia', 'In-network', 82, Decimal('65.60'), datetime.date(2019, 7, 18)),\n",
       " (400023, 100835, 201943, 'VI0579', 'Vision', 'New York', 'In-network', 375, Decimal('18.75'), datetime.date(2019, 11, 14)),\n",
       " (400024, 109461, 201130, 'PC0359', 'Primary Care', 'Massachusetts', 'In-network', 73, Decimal('58.40'), datetime.date(2012, 3, 30)),\n",
       " (400025, 108842, 202009, 'OB0372', 'OBGYN', 'North Carolina', 'In-network', 200, Decimal('128.00'), datetime.date(2013, 1, 13)),\n",
       " (400026, 101744, 201565, 'OC0236', 'Oncology', 'New Jersey', 'In-network', 9, Decimal('5.31'), datetime.date(2017, 7, 23)),\n",
       " (400027, 104665, 200161, 'DT0223', 'Dental', 'California', 'Out-of-network', 250, Decimal('0.00'), datetime.date(2013, 10, 25)),\n",
       " (400028, 106624, 202292, 'DE0265', 'Dermatology', 'Pennsylvania', 'In-network', 43, Decimal('34.40'), datetime.date(2015, 8, 29)),\n",
       " (400029, 104868, 200209, 'OC0181', 'Oncology', 'California', 'In-network', 84, Decimal('81.48'), datetime.date(2018, 10, 23)),\n",
       " (400030, 106516, 202835, 'PT0006', 'Physical Therapy', 'Virginia', 'In-network', 54, Decimal('21.60'), datetime.date(2011, 1, 16)),\n",
       " (400031, 107574, 201882, 'PT0624', 'Physical Therapy', 'New York', 'In-network', 275, Decimal('220.00'), datetime.date(2017, 2, 28)),\n",
       " (400032, 101069, 201879, 'PT0531', 'Physical Therapy', 'New York', 'In-network', 99, Decimal('51.48'), datetime.date(2017, 8, 1)),\n",
       " (400033, 103729, 201729, 'DE0422', 'Dermatology', 'New York', 'In-network', 400, Decimal('320.00'), datetime.date(2016, 2, 12)),\n",
       " (400034, 103576, 202443, 'VI0153', 'Vision', 'Pennsylvania', 'In-network', 300, Decimal('294.00'), datetime.date(2013, 8, 9)),\n",
       " (400035, 100025, 201868, 'PE0389', 'Pediatrics', 'New York', 'In-network', 27, Decimal('15.93'), datetime.date(2012, 6, 14)),\n",
       " (400036, 105574, 202338, 'NE0372', 'Neurology', 'Pennsylvania', 'In-network', 600, Decimal('480.00'), datetime.date(2012, 1, 5)),\n",
       " (400037, 105575, 202873, 'DT0299', 'Dental', 'Washington', 'In-network', 88, Decimal('52.80'), datetime.date(2020, 1, 10)),\n",
       " (400038, 107545, 201726, 'DE0364', 'Dermatology', 'New York', 'In-network', 875, Decimal('682.50'), datetime.date(2018, 11, 3)),\n",
       " (400039, 103055, 200172, 'DE0222', 'Dermatology', 'California', 'In-network', 41, Decimal('1.64'), datetime.date(2016, 8, 19)),\n",
       " (400040, 108922, 201612, 'UC0099', 'Urgent Care', 'New Jersey', 'In-network', 150, Decimal('120.00'), datetime.date(2012, 10, 3)),\n",
       " (400041, 105163, 202407, 'PC0153', 'Primary Care', 'Pennsylvania', 'In-network', 20, Decimal('12.80'), datetime.date(2017, 3, 28)),\n",
       " (400042, 100768, 201806, 'NE0196', 'Neurology', 'New York', 'In-network', 39, Decimal('35.88'), datetime.date(2012, 1, 2)),\n",
       " (400043, 107763, 201833, 'OC0160', 'Oncology', 'New York', 'In-network', 36, Decimal('28.80'), datetime.date(2013, 5, 1)),\n",
       " (400044, 102440, 202427, 'UC0595', 'Urgent Care', 'Pennsylvania', 'In-network', 150, Decimal('16.50'), datetime.date(2012, 12, 6)),\n",
       " (400045, 102237, 201042, 'IM0102', 'Internal Medicine', 'Massachusetts', 'In-network', 35, Decimal('7.70'), datetime.date(2012, 12, 1)),\n",
       " (400046, 105717, 200237, 'PT0280', 'Physical Therapy', 'California', 'Out-of-network', 51, Decimal('0.00'), datetime.date(2011, 1, 31)),\n",
       " (400047, 105106, 202449, 'CA0129', 'Cardiology', 'Rhode Island', 'In-network', 7, Decimal('3.50'), datetime.date(2018, 4, 16)),\n",
       " (400048, 104128, 200512, 'OC0151', 'Oncology', 'Georgia', 'Out-of-network', 72, Decimal('0.00'), datetime.date(2011, 1, 19)),\n",
       " (400049, 107549, 201923, 'UC0386', 'Urgent Care', 'New York', 'Out-of-network', 65, Decimal('0.00'), datetime.date(2018, 7, 8)),\n",
       " (400050, 106345, 202365, 'OD0362', 'Orthodontics', 'Pennsylvania', 'In-network', 38, Decimal('30.40'), datetime.date(2016, 9, 1)),\n",
       " (400051, 109530, 202274, 'CA0466', 'Cardiology', 'Pennsylvania', 'In-network', 32, Decimal('32.00'), datetime.date(2019, 4, 17)),\n",
       " (400052, 106342, 201878, 'PT0062', 'Physical Therapy', 'New York', 'In-network', 84, Decimal('67.20'), datetime.date(2014, 8, 10)),\n",
       " (400053, 108322, 201547, 'OB0129', 'OBGYN', 'New Jersey', 'In-network', 3, Decimal('0.90'), datetime.date(2015, 5, 4)),\n",
       " (400054, 102299, 201847, 'OD0410', 'Orthodontics', 'New York', 'In-network', 425, Decimal('340.00'), datetime.date(2020, 3, 20)),\n",
       " (400055, 103447, 202259, 'BH0327', 'Behavioral Health', 'Pennsylvania', 'Out-of-network', 72, Decimal('0.00'), datetime.date(2019, 7, 21)),\n",
       " (400056, 105911, 201731, 'DE0199', 'Dermatology', 'New York', 'In-network', 56, Decimal('30.80'), datetime.date(2010, 3, 24)),\n",
       " (400057, 104410, 201131, 'PC0085', 'Primary Care', 'Massachusetts', 'In-network', 675, Decimal('540.00'), datetime.date(2017, 12, 18)),\n",
       " (400058, 106340, 202269, 'CA0030', 'Cardiology', 'Pennsylvania', 'In-network', 150, Decimal('88.50'), datetime.date(2016, 7, 14)),\n",
       " (400059, 108245, 201524, 'IM0312', 'Internal Medicine', 'New Jersey', 'In-network', 59, Decimal('47.20'), datetime.date(2017, 11, 6)),\n",
       " (400060, 109483, 201198, 'VI0600', 'Vision', 'Michigan', 'In-network', 525, Decimal('420.00'), datetime.date(2018, 1, 3)),\n",
       " (400061, 108278, 201933, 'VI0282', 'Vision', 'New York', 'In-network', 49, Decimal('47.04'), datetime.date(2020, 3, 20)),\n",
       " (400062, 105962, 202426, 'UC0408', 'Urgent Care', 'Pennsylvania', 'In-network', 47, Decimal('5.17'), datetime.date(2011, 1, 7)),\n",
       " (400063, 102651, 200148, 'CA0370', 'Cardiology', 'California', 'In-network', 43, Decimal('34.40'), datetime.date(2011, 3, 28)),\n",
       " (400064, 107601, 202394, 'PE0484', 'Pediatrics', 'Pennsylvania', 'In-network', 49, Decimal('39.20'), datetime.date(2018, 8, 13)),\n",
       " (400065, 105258, 201765, 'HO0494', 'Hospital', 'New York', 'In-network', 86, Decimal('16.34'), datetime.date(2018, 9, 2)),\n",
       " (400066, 106340, 202269, 'CA0571', 'Cardiology', 'Pennsylvania', 'In-network', 625, Decimal('37.50'), datetime.date(2019, 10, 28)),\n",
       " (400067, 105379, 201601, 'PC0361', 'Primary Care', 'New Jersey', 'In-network', 525, Decimal('420.00'), datetime.date(2015, 2, 12)),\n",
       " (400068, 105038, 202357, 'OC0080', 'Oncology', 'Pennsylvania', 'In-network', 225, Decimal('180.00'), datetime.date(2014, 8, 26)),\n",
       " (400069, 105081, 202824, 'OD0430', 'Orthodontics', 'Virginia', 'In-network', 47, Decimal('37.60'), datetime.date(2012, 8, 31)),\n",
       " (400070, 101004, 201988, 'HO0211', 'Hospital', 'North Carolina', 'In-network', 925, Decimal('259.00'), datetime.date(2011, 10, 2)),\n",
       " (400071, 108162, 200234, 'PT0409', 'Physical Therapy', 'California', 'In-network', 46, Decimal('36.80'), datetime.date(2019, 1, 11)),\n",
       " (400072, 107304, 201790, 'NE0601', 'Neurology', 'New York', 'In-network', 71, Decimal('56.80'), datetime.date(2013, 1, 17)),\n",
       " (400073, 103690, 201684, 'CA0135', 'Cardiology', 'New York', 'In-network', 175, Decimal('29.75'), datetime.date(2015, 4, 18)),\n",
       " (400074, 106955, 200994, 'CA0100', 'Cardiology', 'Massachusetts', 'In-network', 775, Decimal('620.00'), datetime.date(2010, 10, 5)),\n",
       " (400075, 106571, 200326, 'UC0249', 'Urgent Care', 'Colorado', 'In-network', 225, Decimal('209.25'), datetime.date(2015, 11, 20)),\n",
       " (400076, 108397, 202879, 'DE0006', 'Dermatology', 'Washington', 'In-network', 88, Decimal('70.40'), datetime.date(2014, 2, 13)),\n",
       " (400077, 100498, 201737, 'DE0378', 'Dermatology', 'New York', 'In-network', 150, Decimal('61.50'), datetime.date(2016, 4, 26)),\n",
       " (400078, 105217, 201516, 'HO0415', 'Hospital', 'New Jersey', 'In-network', 91, Decimal('72.80'), datetime.date(2017, 6, 27)),\n",
       " (400079, 109963, 200100, 'PC0137', 'Primary Care', 'Arizona', 'Out-of-network', 875, Decimal('0.00'), datetime.date(2014, 12, 18)),\n",
       " (400080, 103722, 201762, 'HO0225', 'Hospital', 'New York', 'In-network', 675, Decimal('540.00'), datetime.date(2011, 3, 12)),\n",
       " (400081, 101119, 202316, 'DM0292', 'Durable Medical Equipment', 'Pennsylvania', 'In-network', 250, Decimal('200.00'), datetime.date(2015, 3, 22)),\n",
       " (400082, 107339, 201718, 'DT0200', 'Dental', 'New York', 'In-network', 7, Decimal('0.07'), datetime.date(2017, 12, 7)),\n",
       " (400083, 100081, 201113, 'PE0666', 'Pediatrics', 'Massachusetts', 'In-network', 675, Decimal('222.75'), datetime.date(2019, 12, 13)),\n",
       " (400084, 100224, 201775, 'IM0338', 'Internal Medicine', 'New York', 'In-network', 24, Decimal('19.20'), datetime.date(2017, 9, 1)),\n",
       " (400085, 104932, 200966, 'PC0626', 'Primary Care', 'Maryland', 'In-network', 20, Decimal('7.20'), datetime.date(2018, 11, 26)),\n",
       " (400086, 103583, 201564, 'OC0322', 'Oncology', 'New Jersey', 'Out-of-network', 41, Decimal('0.00'), datetime.date(2010, 8, 20)),\n",
       " (400087, 102997, 202766, 'DE0255', 'Dermatology', 'Virginia', 'In-network', 400, Decimal('320.00'), datetime.date(2014, 1, 27)),\n",
       " (400088, 106236, 200169, 'DE0482', 'Dermatology', 'California', 'In-network', 44, Decimal('16.72'), datetime.date(2014, 1, 2)),\n",
       " (400089, 107013, 202087, 'BH0002', 'Behavioral Health', 'Ohio', 'In-network', 42, Decimal('16.80'), datetime.date(2015, 10, 31)),\n",
       " (400090, 104127, 202392, 'PE0140', 'Pediatrics', 'Pennsylvania', 'In-network', 125, Decimal('100.00'), datetime.date(2011, 7, 1)),\n",
       " (400091, 102157, 202252, 'BH0368', 'Behavioral Health', 'Pennsylvania', 'In-network', 18, Decimal('12.60'), datetime.date(2012, 6, 20)),\n",
       " (400092, 102823, 201114, 'PT0325', 'Physical Therapy', 'Massachusetts', 'In-network', 150, Decimal('120.00'), datetime.date(2013, 5, 2)),\n",
       " (400093, 105373, 200171, 'DE0488', 'Dermatology', 'California', 'In-network', 38, Decimal('30.40'), datetime.date(2010, 4, 23)),\n",
       " (400094, 102964, 201673, 'BH0053', 'Behavioral Health', 'New York', 'In-network', 57, Decimal('10.26'), datetime.date(2011, 3, 21)),\n",
       " (400095, 104921, 201698, 'CA0071', 'Cardiology', 'New York', 'Out-of-network', 12, Decimal('0.00'), datetime.date(2019, 5, 14)),\n",
       " (400096, 109512, 201855, 'PE0526', 'Pediatrics', 'New York', 'In-network', 85, Decimal('34.85'), datetime.date(2015, 6, 18)),\n",
       " (400097, 100655, 201480, 'DT0386', 'Dental', 'New Jersey', 'In-network', 37, Decimal('29.60'), datetime.date(2020, 2, 16)),\n",
       " (400098, 100721, 201492, 'DE0353', 'Dermatology', 'New Jersey', 'In-network', 88, Decimal('36.96'), datetime.date(2012, 3, 14)),\n",
       " (400099, 107444, 202975, 'VI0304', 'Vision', 'Wisconsin', 'In-network', 550, Decimal('440.00'), datetime.date(2011, 6, 16))]"
      ]
     },
     "execution_count": 126,
     "metadata": {},
     "output_type": "execute_result"
    }
   ],
   "source": [
    "engine.execute(\"select * from procedure_claims limit 100\").fetchall()"
   ]
  },
  {
   "cell_type": "code",
   "execution_count": 127,
   "metadata": {},
   "outputs": [],
   "source": [
    "engine.dispose()"
   ]
  },
  {
   "cell_type": "code",
   "execution_count": null,
   "metadata": {},
   "outputs": [],
   "source": []
  }
 ],
 "metadata": {
  "kernelspec": {
   "display_name": "Python 3",
   "language": "python",
   "name": "python3"
  },
  "language_info": {
   "codemirror_mode": {
    "name": "ipython",
    "version": 3
   },
   "file_extension": ".py",
   "mimetype": "text/x-python",
   "name": "python",
   "nbconvert_exporter": "python",
   "pygments_lexer": "ipython3",
   "version": "3.7.3"
  }
 },
 "nbformat": 4,
 "nbformat_minor": 2
}
