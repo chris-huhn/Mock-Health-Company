{
 "cells": [
  {
   "cell_type": "code",
   "execution_count": 1,
   "metadata": {},
   "outputs": [],
   "source": [
    "# create a table containing 10000 medical procedures/services"
   ]
  },
  {
   "cell_type": "code",
   "execution_count": 2,
   "metadata": {},
   "outputs": [],
   "source": [
    "# columns\n",
    "    # code (format: AB####; where AB are the letters signifying the procedure/service type, # is a number)\n",
    "    # type (reated to type of medicine)\n",
    "    # cost"
   ]
  },
  {
   "cell_type": "code",
   "execution_count": 3,
   "metadata": {},
   "outputs": [],
   "source": [
    "import numpy as np\n",
    "import pandas as pd\n",
    "import random \n",
    "from collections import Counter"
   ]
  },
  {
   "cell_type": "code",
   "execution_count": 4,
   "metadata": {},
   "outputs": [],
   "source": [
    "# types of medicine\n",
    "types_dict = {\"Behavioral Health\": \"BH\",\"Cardiology\":\"CA\", \"Dental\":\"DT\",\"Dermatology\":\"DE\",\\\n",
    "        \"Durable Medical Equipment\":\"DM\",\"Hospital\":\"HO\",\"Internal Medicine\":\"IM\",\\\n",
    "        \"Neurology\":\"NE\",\"OBGYN\":\"OB\", \"Oncology\":\"OC\",\"Orthodontics\":\"OD\",\"Pediatrics\":\"PE\",\\\n",
    "        \"Physical Therapy\":\"PT\",\"Primary Care\":\"PC\",\"Urgent Care\":\"UC\",\"Vision\":\"VI\"}"
   ]
  },
  {
   "cell_type": "code",
   "execution_count": 5,
   "metadata": {},
   "outputs": [],
   "source": [
    "# create dataframe\n",
    "procedures = pd.DataFrame()"
   ]
  },
  {
   "cell_type": "code",
   "execution_count": 6,
   "metadata": {},
   "outputs": [],
   "source": [
    "# codes\n",
    "\n",
    "# get list of abbreviations\n",
    "abb = list(types_dict.values())\n",
    "abb_list = [random.choice(abb)+str() for i in range(10000)]\n",
    "abb_list.sort()"
   ]
  },
  {
   "cell_type": "code",
   "execution_count": 7,
   "metadata": {},
   "outputs": [],
   "source": [
    "# create dictionary abb_counts to determine how many of each type of code is in abb_list\n",
    "abb_counts = Counter(abb_list)"
   ]
  },
  {
   "cell_type": "code",
   "execution_count": 8,
   "metadata": {},
   "outputs": [],
   "source": [
    "# create a list of each code abbreviation addeed to each value of a range with the length of each count in abb_counts\n",
    "codes_raw = []\n",
    "\n",
    "for i,j in abb_counts.items():\n",
    "    for k in range(1,j+1):\n",
    "        codes_raw += [f\"{i}{k}\"]"
   ]
  },
  {
   "cell_type": "code",
   "execution_count": 9,
   "metadata": {},
   "outputs": [],
   "source": [
    "# create codes list\n",
    "\n",
    "codes = []\n",
    "for i in codes_raw:\n",
    "    i_front = i[:2]\n",
    "    i_end = i[2:]\n",
    "    if len(i_end) < 4:\n",
    "        while len(i_end) < 4:\n",
    "            i_end = str(0)+i_end\n",
    "    i = i_front+i_end\n",
    "    codes += [i]"
   ]
  },
  {
   "cell_type": "code",
   "execution_count": 10,
   "metadata": {},
   "outputs": [],
   "source": [
    "# type\n",
    "\n",
    "types = []\n",
    "# iterate through codes list and locate type appreviation with string slicing\n",
    "for i in codes:\n",
    "    i_front = i[:2]\n",
    "    # refer to types_dict to get the full type name using the i_front abbrevation and add it to types list\n",
    "    for a,b in types_dict.items():\n",
    "        if i_front == b:\n",
    "            types += [a]"
   ]
  },
  {
   "cell_type": "code",
   "execution_count": 11,
   "metadata": {},
   "outputs": [],
   "source": [
    "# create price list - these will be arbitray values. These are NOT intended to reflect acutal product \n",
    "# retail prices, copays, etc. It is merely as an exercise to attach an arbitrary price to each drug.\n",
    "prices = list(range(1,100,1)) + list(range(100,1000,25))\n",
    "prices = [random.choice(prices) for i in range(len(codes))]"
   ]
  },
  {
   "cell_type": "code",
   "execution_count": 12,
   "metadata": {},
   "outputs": [],
   "source": [
    "# insert lists into dataframe\n",
    "procedures[\"Code\"] = codes\n",
    "procedures[\"Type\"] = types\n",
    "procedures['Cost'] = prices"
   ]
  },
  {
   "cell_type": "code",
   "execution_count": 13,
   "metadata": {},
   "outputs": [
    {
     "data": {
      "text/html": [
       "<div>\n",
       "<style scoped>\n",
       "    .dataframe tbody tr th:only-of-type {\n",
       "        vertical-align: middle;\n",
       "    }\n",
       "\n",
       "    .dataframe tbody tr th {\n",
       "        vertical-align: top;\n",
       "    }\n",
       "\n",
       "    .dataframe thead th {\n",
       "        text-align: right;\n",
       "    }\n",
       "</style>\n",
       "<table border=\"1\" class=\"dataframe\">\n",
       "  <thead>\n",
       "    <tr style=\"text-align: right;\">\n",
       "      <th></th>\n",
       "      <th>Code</th>\n",
       "      <th>Type</th>\n",
       "      <th>Cost</th>\n",
       "    </tr>\n",
       "  </thead>\n",
       "  <tbody>\n",
       "    <tr>\n",
       "      <th>0</th>\n",
       "      <td>BH0001</td>\n",
       "      <td>Behavioral Health</td>\n",
       "      <td>57</td>\n",
       "    </tr>\n",
       "    <tr>\n",
       "      <th>1</th>\n",
       "      <td>BH0002</td>\n",
       "      <td>Behavioral Health</td>\n",
       "      <td>42</td>\n",
       "    </tr>\n",
       "    <tr>\n",
       "      <th>2</th>\n",
       "      <td>BH0003</td>\n",
       "      <td>Behavioral Health</td>\n",
       "      <td>58</td>\n",
       "    </tr>\n",
       "    <tr>\n",
       "      <th>3</th>\n",
       "      <td>BH0004</td>\n",
       "      <td>Behavioral Health</td>\n",
       "      <td>51</td>\n",
       "    </tr>\n",
       "    <tr>\n",
       "      <th>4</th>\n",
       "      <td>BH0005</td>\n",
       "      <td>Behavioral Health</td>\n",
       "      <td>54</td>\n",
       "    </tr>\n",
       "  </tbody>\n",
       "</table>\n",
       "</div>"
      ],
      "text/plain": [
       "     Code               Type  Cost\n",
       "0  BH0001  Behavioral Health    57\n",
       "1  BH0002  Behavioral Health    42\n",
       "2  BH0003  Behavioral Health    58\n",
       "3  BH0004  Behavioral Health    51\n",
       "4  BH0005  Behavioral Health    54"
      ]
     },
     "execution_count": 13,
     "metadata": {},
     "output_type": "execute_result"
    }
   ],
   "source": [
    "procedures.head()"
   ]
  },
  {
   "cell_type": "code",
   "execution_count": 14,
   "metadata": {},
   "outputs": [],
   "source": [
    "# SQL create table and insert\n",
    "from sqlalchemy import create_engine\n",
    "import pymysql\n",
    "\n",
    "engine = create_engine('mysql+pymysql://root:funny20!@#@localhost')"
   ]
  },
  {
   "cell_type": "code",
   "execution_count": 15,
   "metadata": {},
   "outputs": [
    {
     "data": {
      "text/plain": [
       "<sqlalchemy.engine.result.ResultProxy at 0x1150ee4e0>"
      ]
     },
     "execution_count": 15,
     "metadata": {},
     "output_type": "execute_result"
    }
   ],
   "source": [
    "engine.execute('use health_company;')"
   ]
  },
  {
   "cell_type": "code",
   "execution_count": 16,
   "metadata": {},
   "outputs": [],
   "source": [
    "# write directly to MySQL\n",
    "procedures.to_sql('procedures', con=engine, index=False)"
   ]
  },
  {
   "cell_type": "code",
   "execution_count": 17,
   "metadata": {},
   "outputs": [
    {
     "data": {
      "text/plain": [
       "[('members',), ('pharmacies',), ('procedures',), ('providers',)]"
      ]
     },
     "execution_count": 17,
     "metadata": {},
     "output_type": "execute_result"
    }
   ],
   "source": [
    "engine.execute(\"show tables;\").fetchall()"
   ]
  },
  {
   "cell_type": "code",
   "execution_count": 18,
   "metadata": {},
   "outputs": [
    {
     "data": {
      "text/plain": [
       "[('BH0001', 'Behavioral Health', 57),\n",
       " ('BH0002', 'Behavioral Health', 42),\n",
       " ('BH0003', 'Behavioral Health', 58),\n",
       " ('BH0004', 'Behavioral Health', 51),\n",
       " ('BH0005', 'Behavioral Health', 54),\n",
       " ('BH0006', 'Behavioral Health', 84),\n",
       " ('BH0007', 'Behavioral Health', 13),\n",
       " ('BH0008', 'Behavioral Health', 325),\n",
       " ('BH0009', 'Behavioral Health', 95),\n",
       " ('BH0010', 'Behavioral Health', 96)]"
      ]
     },
     "execution_count": 18,
     "metadata": {},
     "output_type": "execute_result"
    }
   ],
   "source": [
    "engine.execute(\"select * from procedures limit 10;\").fetchall()"
   ]
  },
  {
   "cell_type": "code",
   "execution_count": 19,
   "metadata": {},
   "outputs": [],
   "source": [
    "engine.dispose()"
   ]
  },
  {
   "cell_type": "code",
   "execution_count": null,
   "metadata": {},
   "outputs": [],
   "source": []
  }
 ],
 "metadata": {
  "kernelspec": {
   "display_name": "Python 3",
   "language": "python",
   "name": "python3"
  },
  "language_info": {
   "codemirror_mode": {
    "name": "ipython",
    "version": 3
   },
   "file_extension": ".py",
   "mimetype": "text/x-python",
   "name": "python",
   "nbconvert_exporter": "python",
   "pygments_lexer": "ipython3",
   "version": "3.7.3"
  }
 },
 "nbformat": 4,
 "nbformat_minor": 2
}
